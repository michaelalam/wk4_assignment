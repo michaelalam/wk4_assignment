{
  "nbformat": 4,
  "nbformat_minor": 0,
  "metadata": {
    "colab": {
      "name": "Physician compare 2017 Michael lam week 4 test",
      "provenance": [],
      "toc_visible": true
    },
    "kernelspec": {
      "name": "python3",
      "display_name": "Python 3"
    }
  },
  "cells": [
    {
      "cell_type": "code",
      "metadata": {
        "id": "9t-aaUl4DOoQ",
        "colab_type": "code",
        "colab": {
          "resources": {
            "http://localhost:8080/nbextensions/google.colab/files.js": {
              "data": "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",
              "ok": true,
              "headers": [
                [
                  "content-type",
                  "application/javascript"
                ]
              ],
              "status": 200,
              "status_text": ""
            }
          },
          "base_uri": "https://localhost:8080/",
          "height": 72
        },
        "outputId": "3b93c325-bbb4-4f5b-e825-ee24eaed6576"
      },
      "source": [
        "from google.colab import files\n",
        "\n",
        "uploaded = files.upload()"
      ],
      "execution_count": 3,
      "outputs": [
        {
          "output_type": "display_data",
          "data": {
            "text/html": [
              "\n",
              "     <input type=\"file\" id=\"files-15526ad1-96f8-46ec-b722-d8f072bed0e1\" name=\"files[]\" multiple disabled\n",
              "        style=\"border:none\" />\n",
              "     <output id=\"result-15526ad1-96f8-46ec-b722-d8f072bed0e1\">\n",
              "      Upload widget is only available when the cell has been executed in the\n",
              "      current browser session. Please rerun this cell to enable.\n",
              "      </output>\n",
              "      <script src=\"/nbextensions/google.colab/files.js\"></script> "
            ],
            "text/plain": [
              "<IPython.core.display.HTML object>"
            ]
          },
          "metadata": {
            "tags": []
          }
        },
        {
          "output_type": "stream",
          "text": [
            "Saving Physician.Compare.patient.experience.reporting.csv to Physician.Compare.patient.experience.reporting.csv\n"
          ],
          "name": "stdout"
        }
      ]
    },
    {
      "cell_type": "code",
      "metadata": {
        "id": "Q5kfBhUVDweh",
        "colab_type": "code",
        "colab": {}
      },
      "source": [
        "import io\n",
        "import pandas as pd # this is loading in pandas package as short hand PD\n",
        "df = pd.read_csv(io.BytesIO(uploaded['Physician.Compare.patient.experience.reporting.csv'])) #this is a command that looks into our computer to look for this file type. so we replace the file name of our CVS"
      ],
      "execution_count": 96,
      "outputs": []
    },
    {
      "cell_type": "markdown",
      "metadata": {
        "id": "a9I94tthJoFw",
        "colab_type": "text"
      },
      "source": [
        "##df = pd.read_csv(io.BytesIO(uploaded['Filename.csv'])) # this is what it says but you have to change the Filename.csv to the name of the file you uploaded.*italicized text*"
      ]
    },
    {
      "cell_type": "code",
      "metadata": {
        "id": "2VjaHPrUD1sY",
        "colab_type": "code",
        "colab": {
          "base_uri": "https://localhost:8080/",
          "height": 419
        },
        "outputId": "586af009-a02c-49e0-824f-47a1a4b9d9e0"
      },
      "source": [
        "df"
      ],
      "execution_count": 97,
      "outputs": [
        {
          "output_type": "execute_result",
          "data": {
            "text/html": [
              "<div>\n",
              "<style scoped>\n",
              "    .dataframe tbody tr th:only-of-type {\n",
              "        vertical-align: middle;\n",
              "    }\n",
              "\n",
              "    .dataframe tbody tr th {\n",
              "        vertical-align: top;\n",
              "    }\n",
              "\n",
              "    .dataframe thead th {\n",
              "        text-align: right;\n",
              "    }\n",
              "</style>\n",
              "<table border=\"1\" class=\"dataframe\">\n",
              "  <thead>\n",
              "    <tr style=\"text-align: right;\">\n",
              "      <th></th>\n",
              "      <th>Org_nm</th>\n",
              "      <th>Org_PAC_ID</th>\n",
              "      <th>ST</th>\n",
              "      <th>measure_CD</th>\n",
              "      <th>measure_title</th>\n",
              "      <th>prf_rate</th>\n",
              "      <th>patient_count</th>\n",
              "      <th>FN</th>\n",
              "    </tr>\n",
              "  </thead>\n",
              "  <tbody>\n",
              "    <tr>\n",
              "      <th>0</th>\n",
              "      <td>MID COAST HOSPITAL</td>\n",
              "      <td>5496739468</td>\n",
              "      <td>ME</td>\n",
              "      <td>CAHPS_GRP_1</td>\n",
              "      <td>CAHPS for MIPS SSM: Getting Timely Care, Appoi...</td>\n",
              "      <td>77.0</td>\n",
              "      <td>NaN</td>\n",
              "      <td>NaN</td>\n",
              "    </tr>\n",
              "    <tr>\n",
              "      <th>1</th>\n",
              "      <td>MID COAST HOSPITAL</td>\n",
              "      <td>5496739468</td>\n",
              "      <td>ME</td>\n",
              "      <td>CAHPS_GRP_11</td>\n",
              "      <td>CAHPS for MIPS SSM: Stewardship of Patient Res...</td>\n",
              "      <td>27.0</td>\n",
              "      <td>NaN</td>\n",
              "      <td>NaN</td>\n",
              "    </tr>\n",
              "    <tr>\n",
              "      <th>2</th>\n",
              "      <td>MID COAST HOSPITAL</td>\n",
              "      <td>5496739468</td>\n",
              "      <td>ME</td>\n",
              "      <td>CAHPS_GRP_12</td>\n",
              "      <td>CAHPS for MIPS SSM: Between Visit Communication</td>\n",
              "      <td>54.0</td>\n",
              "      <td>NaN</td>\n",
              "      <td>NaN</td>\n",
              "    </tr>\n",
              "    <tr>\n",
              "      <th>3</th>\n",
              "      <td>MID COAST HOSPITAL</td>\n",
              "      <td>5496739468</td>\n",
              "      <td>ME</td>\n",
              "      <td>CAHPS_GRP_2</td>\n",
              "      <td>CAHPS for MIPS SSM: How Well Providers Communi...</td>\n",
              "      <td>92.0</td>\n",
              "      <td>NaN</td>\n",
              "      <td>NaN</td>\n",
              "    </tr>\n",
              "    <tr>\n",
              "      <th>4</th>\n",
              "      <td>MID COAST HOSPITAL</td>\n",
              "      <td>5496739468</td>\n",
              "      <td>ME</td>\n",
              "      <td>CAHPS_GRP_3</td>\n",
              "      <td>CAHPS for MIPS SSM: Patient's Rating of Provider</td>\n",
              "      <td>91.0</td>\n",
              "      <td>NaN</td>\n",
              "      <td>NaN</td>\n",
              "    </tr>\n",
              "    <tr>\n",
              "      <th>...</th>\n",
              "      <td>...</td>\n",
              "      <td>...</td>\n",
              "      <td>...</td>\n",
              "      <td>...</td>\n",
              "      <td>...</td>\n",
              "      <td>...</td>\n",
              "      <td>...</td>\n",
              "      <td>...</td>\n",
              "    </tr>\n",
              "    <tr>\n",
              "      <th>1898</th>\n",
              "      <td>KAUAI MEDICAL CLINIC</td>\n",
              "      <td>5092628479</td>\n",
              "      <td>HI</td>\n",
              "      <td>CAHPS_GRP_2</td>\n",
              "      <td>CAHPS for MIPS SSM: How Well Providers Communi...</td>\n",
              "      <td>93.0</td>\n",
              "      <td>NaN</td>\n",
              "      <td>NaN</td>\n",
              "    </tr>\n",
              "    <tr>\n",
              "      <th>1899</th>\n",
              "      <td>KAUAI MEDICAL CLINIC</td>\n",
              "      <td>5092628479</td>\n",
              "      <td>HI</td>\n",
              "      <td>CAHPS_GRP_3</td>\n",
              "      <td>CAHPS for MIPS SSM: Patient's Rating of Provider</td>\n",
              "      <td>92.0</td>\n",
              "      <td>NaN</td>\n",
              "      <td>NaN</td>\n",
              "    </tr>\n",
              "    <tr>\n",
              "      <th>1900</th>\n",
              "      <td>KAUAI MEDICAL CLINIC</td>\n",
              "      <td>5092628479</td>\n",
              "      <td>HI</td>\n",
              "      <td>CAHPS_GRP_5</td>\n",
              "      <td>CAHPS for MIPS SSM: Health Promotion and Educa...</td>\n",
              "      <td>56.0</td>\n",
              "      <td>NaN</td>\n",
              "      <td>NaN</td>\n",
              "    </tr>\n",
              "    <tr>\n",
              "      <th>1901</th>\n",
              "      <td>KAUAI MEDICAL CLINIC</td>\n",
              "      <td>5092628479</td>\n",
              "      <td>HI</td>\n",
              "      <td>CAHPS_GRP_8</td>\n",
              "      <td>CAHPS for MIPS SSM: Care Coordination</td>\n",
              "      <td>85.0</td>\n",
              "      <td>NaN</td>\n",
              "      <td>NaN</td>\n",
              "    </tr>\n",
              "    <tr>\n",
              "      <th>1902</th>\n",
              "      <td>KAUAI MEDICAL CLINIC</td>\n",
              "      <td>5092628479</td>\n",
              "      <td>HI</td>\n",
              "      <td>CAHPS_GRP_9</td>\n",
              "      <td>CAHPS for MIPS SSM: Courteous and Helpful Offi...</td>\n",
              "      <td>91.0</td>\n",
              "      <td>NaN</td>\n",
              "      <td>NaN</td>\n",
              "    </tr>\n",
              "  </tbody>\n",
              "</table>\n",
              "<p>1903 rows × 8 columns</p>\n",
              "</div>"
            ],
            "text/plain": [
              "                    Org_nm   Org_PAC_ID  ST  ...  prf_rate  patient_count   FN\n",
              "0       MID COAST HOSPITAL   5496739468  ME  ...      77.0            NaN  NaN\n",
              "1       MID COAST HOSPITAL   5496739468  ME  ...      27.0            NaN  NaN\n",
              "2       MID COAST HOSPITAL   5496739468  ME  ...      54.0            NaN  NaN\n",
              "3       MID COAST HOSPITAL   5496739468  ME  ...      92.0            NaN  NaN\n",
              "4       MID COAST HOSPITAL   5496739468  ME  ...      91.0            NaN  NaN\n",
              "...                    ...          ...  ..  ...       ...            ...  ...\n",
              "1898  KAUAI MEDICAL CLINIC   5092628479  HI  ...      93.0            NaN  NaN\n",
              "1899  KAUAI MEDICAL CLINIC   5092628479  HI  ...      92.0            NaN  NaN\n",
              "1900  KAUAI MEDICAL CLINIC   5092628479  HI  ...      56.0            NaN  NaN\n",
              "1901  KAUAI MEDICAL CLINIC   5092628479  HI  ...      85.0            NaN  NaN\n",
              "1902  KAUAI MEDICAL CLINIC   5092628479  HI  ...      91.0            NaN  NaN\n",
              "\n",
              "[1903 rows x 8 columns]"
            ]
          },
          "metadata": {
            "tags": []
          },
          "execution_count": 97
        }
      ]
    },
    {
      "cell_type": "code",
      "metadata": {
        "id": "wOV7CEPCD7nr",
        "colab_type": "code",
        "colab": {
          "base_uri": "https://localhost:8080/",
          "height": 204
        },
        "outputId": "baceeff1-26f2-43eb-9369-4ad29d1ef71d"
      },
      "source": [
        "df.head() # with the () we get the formated version of it."
      ],
      "execution_count": 6,
      "outputs": [
        {
          "output_type": "execute_result",
          "data": {
            "text/html": [
              "<div>\n",
              "<style scoped>\n",
              "    .dataframe tbody tr th:only-of-type {\n",
              "        vertical-align: middle;\n",
              "    }\n",
              "\n",
              "    .dataframe tbody tr th {\n",
              "        vertical-align: top;\n",
              "    }\n",
              "\n",
              "    .dataframe thead th {\n",
              "        text-align: right;\n",
              "    }\n",
              "</style>\n",
              "<table border=\"1\" class=\"dataframe\">\n",
              "  <thead>\n",
              "    <tr style=\"text-align: right;\">\n",
              "      <th></th>\n",
              "      <th>Org_nm</th>\n",
              "      <th>Org_PAC_ID</th>\n",
              "      <th>ST</th>\n",
              "      <th>measure_CD</th>\n",
              "      <th>measure_title</th>\n",
              "      <th>prf_rate</th>\n",
              "      <th>patient_count</th>\n",
              "      <th>FN</th>\n",
              "    </tr>\n",
              "  </thead>\n",
              "  <tbody>\n",
              "    <tr>\n",
              "      <th>0</th>\n",
              "      <td>MID COAST HOSPITAL</td>\n",
              "      <td>5496739468</td>\n",
              "      <td>ME</td>\n",
              "      <td>CAHPS_GRP_1</td>\n",
              "      <td>CAHPS for MIPS SSM: Getting Timely Care, Appoi...</td>\n",
              "      <td>77.0</td>\n",
              "      <td>NaN</td>\n",
              "      <td>NaN</td>\n",
              "    </tr>\n",
              "    <tr>\n",
              "      <th>1</th>\n",
              "      <td>MID COAST HOSPITAL</td>\n",
              "      <td>5496739468</td>\n",
              "      <td>ME</td>\n",
              "      <td>CAHPS_GRP_11</td>\n",
              "      <td>CAHPS for MIPS SSM: Stewardship of Patient Res...</td>\n",
              "      <td>27.0</td>\n",
              "      <td>NaN</td>\n",
              "      <td>NaN</td>\n",
              "    </tr>\n",
              "    <tr>\n",
              "      <th>2</th>\n",
              "      <td>MID COAST HOSPITAL</td>\n",
              "      <td>5496739468</td>\n",
              "      <td>ME</td>\n",
              "      <td>CAHPS_GRP_12</td>\n",
              "      <td>CAHPS for MIPS SSM: Between Visit Communication</td>\n",
              "      <td>54.0</td>\n",
              "      <td>NaN</td>\n",
              "      <td>NaN</td>\n",
              "    </tr>\n",
              "    <tr>\n",
              "      <th>3</th>\n",
              "      <td>MID COAST HOSPITAL</td>\n",
              "      <td>5496739468</td>\n",
              "      <td>ME</td>\n",
              "      <td>CAHPS_GRP_2</td>\n",
              "      <td>CAHPS for MIPS SSM: How Well Providers Communi...</td>\n",
              "      <td>92.0</td>\n",
              "      <td>NaN</td>\n",
              "      <td>NaN</td>\n",
              "    </tr>\n",
              "    <tr>\n",
              "      <th>4</th>\n",
              "      <td>MID COAST HOSPITAL</td>\n",
              "      <td>5496739468</td>\n",
              "      <td>ME</td>\n",
              "      <td>CAHPS_GRP_3</td>\n",
              "      <td>CAHPS for MIPS SSM: Patient's Rating of Provider</td>\n",
              "      <td>91.0</td>\n",
              "      <td>NaN</td>\n",
              "      <td>NaN</td>\n",
              "    </tr>\n",
              "  </tbody>\n",
              "</table>\n",
              "</div>"
            ],
            "text/plain": [
              "               Org_nm   Org_PAC_ID  ST  ...  prf_rate  patient_count   FN\n",
              "0  MID COAST HOSPITAL   5496739468  ME  ...      77.0            NaN  NaN\n",
              "1  MID COAST HOSPITAL   5496739468  ME  ...      27.0            NaN  NaN\n",
              "2  MID COAST HOSPITAL   5496739468  ME  ...      54.0            NaN  NaN\n",
              "3  MID COAST HOSPITAL   5496739468  ME  ...      92.0            NaN  NaN\n",
              "4  MID COAST HOSPITAL   5496739468  ME  ...      91.0            NaN  NaN\n",
              "\n",
              "[5 rows x 8 columns]"
            ]
          },
          "metadata": {
            "tags": []
          },
          "execution_count": 6
        }
      ]
    },
    {
      "cell_type": "code",
      "metadata": {
        "id": "vz0bRlyTD9Tq",
        "colab_type": "code",
        "colab": {
          "base_uri": "https://localhost:8080/",
          "height": 204
        },
        "outputId": "cc90d8ac-848c-4ca0-a60d-cd9af4258275"
      },
      "source": [
        "df.tail () # this gives us the bottom 5"
      ],
      "execution_count": 7,
      "outputs": [
        {
          "output_type": "execute_result",
          "data": {
            "text/html": [
              "<div>\n",
              "<style scoped>\n",
              "    .dataframe tbody tr th:only-of-type {\n",
              "        vertical-align: middle;\n",
              "    }\n",
              "\n",
              "    .dataframe tbody tr th {\n",
              "        vertical-align: top;\n",
              "    }\n",
              "\n",
              "    .dataframe thead th {\n",
              "        text-align: right;\n",
              "    }\n",
              "</style>\n",
              "<table border=\"1\" class=\"dataframe\">\n",
              "  <thead>\n",
              "    <tr style=\"text-align: right;\">\n",
              "      <th></th>\n",
              "      <th>Org_nm</th>\n",
              "      <th>Org_PAC_ID</th>\n",
              "      <th>ST</th>\n",
              "      <th>measure_CD</th>\n",
              "      <th>measure_title</th>\n",
              "      <th>prf_rate</th>\n",
              "      <th>patient_count</th>\n",
              "      <th>FN</th>\n",
              "    </tr>\n",
              "  </thead>\n",
              "  <tbody>\n",
              "    <tr>\n",
              "      <th>1898</th>\n",
              "      <td>KAUAI MEDICAL CLINIC</td>\n",
              "      <td>5092628479</td>\n",
              "      <td>HI</td>\n",
              "      <td>CAHPS_GRP_2</td>\n",
              "      <td>CAHPS for MIPS SSM: How Well Providers Communi...</td>\n",
              "      <td>93.0</td>\n",
              "      <td>NaN</td>\n",
              "      <td>NaN</td>\n",
              "    </tr>\n",
              "    <tr>\n",
              "      <th>1899</th>\n",
              "      <td>KAUAI MEDICAL CLINIC</td>\n",
              "      <td>5092628479</td>\n",
              "      <td>HI</td>\n",
              "      <td>CAHPS_GRP_3</td>\n",
              "      <td>CAHPS for MIPS SSM: Patient's Rating of Provider</td>\n",
              "      <td>92.0</td>\n",
              "      <td>NaN</td>\n",
              "      <td>NaN</td>\n",
              "    </tr>\n",
              "    <tr>\n",
              "      <th>1900</th>\n",
              "      <td>KAUAI MEDICAL CLINIC</td>\n",
              "      <td>5092628479</td>\n",
              "      <td>HI</td>\n",
              "      <td>CAHPS_GRP_5</td>\n",
              "      <td>CAHPS for MIPS SSM: Health Promotion and Educa...</td>\n",
              "      <td>56.0</td>\n",
              "      <td>NaN</td>\n",
              "      <td>NaN</td>\n",
              "    </tr>\n",
              "    <tr>\n",
              "      <th>1901</th>\n",
              "      <td>KAUAI MEDICAL CLINIC</td>\n",
              "      <td>5092628479</td>\n",
              "      <td>HI</td>\n",
              "      <td>CAHPS_GRP_8</td>\n",
              "      <td>CAHPS for MIPS SSM: Care Coordination</td>\n",
              "      <td>85.0</td>\n",
              "      <td>NaN</td>\n",
              "      <td>NaN</td>\n",
              "    </tr>\n",
              "    <tr>\n",
              "      <th>1902</th>\n",
              "      <td>KAUAI MEDICAL CLINIC</td>\n",
              "      <td>5092628479</td>\n",
              "      <td>HI</td>\n",
              "      <td>CAHPS_GRP_9</td>\n",
              "      <td>CAHPS for MIPS SSM: Courteous and Helpful Offi...</td>\n",
              "      <td>91.0</td>\n",
              "      <td>NaN</td>\n",
              "      <td>NaN</td>\n",
              "    </tr>\n",
              "  </tbody>\n",
              "</table>\n",
              "</div>"
            ],
            "text/plain": [
              "                    Org_nm   Org_PAC_ID  ST  ...  prf_rate  patient_count   FN\n",
              "1898  KAUAI MEDICAL CLINIC   5092628479  HI  ...      93.0            NaN  NaN\n",
              "1899  KAUAI MEDICAL CLINIC   5092628479  HI  ...      92.0            NaN  NaN\n",
              "1900  KAUAI MEDICAL CLINIC   5092628479  HI  ...      56.0            NaN  NaN\n",
              "1901  KAUAI MEDICAL CLINIC   5092628479  HI  ...      85.0            NaN  NaN\n",
              "1902  KAUAI MEDICAL CLINIC   5092628479  HI  ...      91.0            NaN  NaN\n",
              "\n",
              "[5 rows x 8 columns]"
            ]
          },
          "metadata": {
            "tags": []
          },
          "execution_count": 7
        }
      ]
    },
    {
      "cell_type": "code",
      "metadata": {
        "id": "O4iES8T7EBRu",
        "colab_type": "code",
        "colab": {
          "base_uri": "https://localhost:8080/",
          "height": 204
        },
        "outputId": "3e9a4299-9c4c-4b19-9e4b-d6b5c99024db"
      },
      "source": [
        "df.sample (5) # random sample of 5 obversvations"
      ],
      "execution_count": 8,
      "outputs": [
        {
          "output_type": "execute_result",
          "data": {
            "text/html": [
              "<div>\n",
              "<style scoped>\n",
              "    .dataframe tbody tr th:only-of-type {\n",
              "        vertical-align: middle;\n",
              "    }\n",
              "\n",
              "    .dataframe tbody tr th {\n",
              "        vertical-align: top;\n",
              "    }\n",
              "\n",
              "    .dataframe thead th {\n",
              "        text-align: right;\n",
              "    }\n",
              "</style>\n",
              "<table border=\"1\" class=\"dataframe\">\n",
              "  <thead>\n",
              "    <tr style=\"text-align: right;\">\n",
              "      <th></th>\n",
              "      <th>Org_nm</th>\n",
              "      <th>Org_PAC_ID</th>\n",
              "      <th>ST</th>\n",
              "      <th>measure_CD</th>\n",
              "      <th>measure_title</th>\n",
              "      <th>prf_rate</th>\n",
              "      <th>patient_count</th>\n",
              "      <th>FN</th>\n",
              "    </tr>\n",
              "  </thead>\n",
              "  <tbody>\n",
              "    <tr>\n",
              "      <th>401</th>\n",
              "      <td>DUBOIS REGIONAL MEDICAL CENTER</td>\n",
              "      <td>5890689715</td>\n",
              "      <td>PA</td>\n",
              "      <td>CAHPS_GRP_11</td>\n",
              "      <td>CAHPS for MIPS SSM: Stewardship of Patient Res...</td>\n",
              "      <td>NaN</td>\n",
              "      <td>NaN</td>\n",
              "      <td>1.0</td>\n",
              "    </tr>\n",
              "    <tr>\n",
              "      <th>861</th>\n",
              "      <td>AURORA HEALTH CARE METRO INC</td>\n",
              "      <td>8628986536</td>\n",
              "      <td>WI</td>\n",
              "      <td>CAHPS_GRP_5</td>\n",
              "      <td>CAHPS for MIPS SSM: Health Promotion and Educa...</td>\n",
              "      <td>72.0</td>\n",
              "      <td>NaN</td>\n",
              "      <td>NaN</td>\n",
              "    </tr>\n",
              "    <tr>\n",
              "      <th>1252</th>\n",
              "      <td>EVMS ACADEMIC PHYSICIANS AND SURGEONS HEALTH S...</td>\n",
              "      <td>5698675510</td>\n",
              "      <td>VA</td>\n",
              "      <td>CAHPS_GRP_3</td>\n",
              "      <td>CAHPS for MIPS SSM: Patient's Rating of Provider</td>\n",
              "      <td>93.0</td>\n",
              "      <td>NaN</td>\n",
              "      <td>NaN</td>\n",
              "    </tr>\n",
              "    <tr>\n",
              "      <th>1373</th>\n",
              "      <td>CONWAY HOSPITAL COMMUNITY SERVICES</td>\n",
              "      <td>9830087774</td>\n",
              "      <td>SC</td>\n",
              "      <td>CAHPS_GRP_5</td>\n",
              "      <td>CAHPS for MIPS SSM: Health Promotion and Educa...</td>\n",
              "      <td>54.0</td>\n",
              "      <td>NaN</td>\n",
              "      <td>NaN</td>\n",
              "    </tr>\n",
              "    <tr>\n",
              "      <th>1627</th>\n",
              "      <td>STATE OF OKLAHOMA</td>\n",
              "      <td>4486558962</td>\n",
              "      <td>OK</td>\n",
              "      <td>CAHPS_GRP_3</td>\n",
              "      <td>CAHPS for MIPS SSM: Patient's Rating of Provider</td>\n",
              "      <td>NaN</td>\n",
              "      <td>NaN</td>\n",
              "      <td>1.0</td>\n",
              "    </tr>\n",
              "  </tbody>\n",
              "</table>\n",
              "</div>"
            ],
            "text/plain": [
              "                                                 Org_nm  ...   FN\n",
              "401                      DUBOIS REGIONAL MEDICAL CENTER  ...  1.0\n",
              "861                        AURORA HEALTH CARE METRO INC  ...  NaN\n",
              "1252  EVMS ACADEMIC PHYSICIANS AND SURGEONS HEALTH S...  ...  NaN\n",
              "1373                 CONWAY HOSPITAL COMMUNITY SERVICES  ...  NaN\n",
              "1627                                  STATE OF OKLAHOMA  ...  1.0\n",
              "\n",
              "[5 rows x 8 columns]"
            ]
          },
          "metadata": {
            "tags": []
          },
          "execution_count": 8
        }
      ]
    },
    {
      "cell_type": "code",
      "metadata": {
        "id": "nwq3OFOyELOO",
        "colab_type": "code",
        "colab": {
          "base_uri": "https://localhost:8080/",
          "height": 153
        },
        "outputId": "4ebebde6-6129-4a18-d10f-ac256213f588"
      },
      "source": [
        "list(df)"
      ],
      "execution_count": 9,
      "outputs": [
        {
          "output_type": "execute_result",
          "data": {
            "text/plain": [
              "['Org_nm',\n",
              " ' Org_PAC_ID',\n",
              " ' ST',\n",
              " ' measure_CD',\n",
              " ' measure_title',\n",
              " ' prf_rate',\n",
              " ' patient_count',\n",
              " ' FN']"
            ]
          },
          "metadata": {
            "tags": []
          },
          "execution_count": 9
        }
      ]
    },
    {
      "cell_type": "code",
      "metadata": {
        "id": "jEk724_dEQ9U",
        "colab_type": "code",
        "colab": {
          "base_uri": "https://localhost:8080/",
          "height": 170
        },
        "outputId": "54fc327c-a95a-4c73-f51c-c8cab46b9617"
      },
      "source": [
        "df.dtypes #check types for all the columns"
      ],
      "execution_count": 10,
      "outputs": [
        {
          "output_type": "execute_result",
          "data": {
            "text/plain": [
              "Org_nm             object\n",
              " Org_PAC_ID         int64\n",
              " ST                object\n",
              " measure_CD        object\n",
              " measure_title     object\n",
              " prf_rate         float64\n",
              " patient_count    float64\n",
              " FN               float64\n",
              "dtype: object"
            ]
          },
          "metadata": {
            "tags": []
          },
          "execution_count": 10
        }
      ]
    },
    {
      "cell_type": "code",
      "metadata": {
        "id": "6B2jYDglFy35",
        "colab_type": "code",
        "colab": {
          "base_uri": "https://localhost:8080/",
          "height": 170
        },
        "outputId": "b98cf471-a1bf-4291-de72-469a33811cab"
      },
      "source": [
        "print(df.dtypes)"
      ],
      "execution_count": 11,
      "outputs": [
        {
          "output_type": "stream",
          "text": [
            "Org_nm             object\n",
            " Org_PAC_ID         int64\n",
            " ST                object\n",
            " measure_CD        object\n",
            " measure_title     object\n",
            " prf_rate         float64\n",
            " patient_count    float64\n",
            " FN               float64\n",
            "dtype: object\n"
          ],
          "name": "stdout"
        }
      ]
    },
    {
      "cell_type": "code",
      "metadata": {
        "id": "-tdXxf95cSTJ",
        "colab_type": "code",
        "colab": {
          "base_uri": "https://localhost:8080/",
          "height": 34
        },
        "outputId": "3dfbe16c-789e-4a09-e95f-fdb093ab8f70"
      },
      "source": [
        "df.index"
      ],
      "execution_count": 12,
      "outputs": [
        {
          "output_type": "execute_result",
          "data": {
            "text/plain": [
              "RangeIndex(start=0, stop=1903, step=1)"
            ]
          },
          "metadata": {
            "tags": []
          },
          "execution_count": 12
        }
      ]
    },
    {
      "cell_type": "code",
      "metadata": {
        "id": "9wT-gEiYcXPC",
        "colab_type": "code",
        "colab": {
          "base_uri": "https://localhost:8080/",
          "height": 68
        },
        "outputId": "69aadd45-e2b3-40ae-d33c-42482ea86bd3"
      },
      "source": [
        "df.columns"
      ],
      "execution_count": 13,
      "outputs": [
        {
          "output_type": "execute_result",
          "data": {
            "text/plain": [
              "Index(['Org_nm', ' Org_PAC_ID', ' ST', ' measure_CD', ' measure_title',\n",
              "       ' prf_rate', ' patient_count', ' FN'],\n",
              "      dtype='object')"
            ]
          },
          "metadata": {
            "tags": []
          },
          "execution_count": 13
        }
      ]
    },
    {
      "cell_type": "code",
      "metadata": {
        "id": "U9B3PVy6cdo2",
        "colab_type": "code",
        "colab": {
          "base_uri": "https://localhost:8080/",
          "height": 34
        },
        "outputId": "7017d41e-643d-466b-a5cf-5e3559f59790"
      },
      "source": [
        "df.shape"
      ],
      "execution_count": 14,
      "outputs": [
        {
          "output_type": "execute_result",
          "data": {
            "text/plain": [
              "(1903, 8)"
            ]
          },
          "metadata": {
            "tags": []
          },
          "execution_count": 14
        }
      ]
    },
    {
      "cell_type": "code",
      "metadata": {
        "id": "_zozXZjPcvDH",
        "colab_type": "code",
        "colab": {
          "base_uri": "https://localhost:8080/",
          "height": 34
        },
        "outputId": "dddfbc6d-35e1-4a3f-8b47-ef9ada295a61"
      },
      "source": [
        "print(\"Feature types\")"
      ],
      "execution_count": 15,
      "outputs": [
        {
          "output_type": "stream",
          "text": [
            "Feature types\n"
          ],
          "name": "stdout"
        }
      ]
    },
    {
      "cell_type": "code",
      "metadata": {
        "id": "T-xGCNyzc1JE",
        "colab_type": "code",
        "colab": {
          "base_uri": "https://localhost:8080/",
          "height": 34
        },
        "outputId": "80b033d2-147a-4a16-8f96-34cc887329ee"
      },
      "source": [
        "print()"
      ],
      "execution_count": 16,
      "outputs": [
        {
          "output_type": "stream",
          "text": [
            "\n"
          ],
          "name": "stdout"
        }
      ]
    },
    {
      "cell_type": "code",
      "metadata": {
        "id": "7DbR5EmEFukb",
        "colab_type": "code",
        "colab": {
          "base_uri": "https://localhost:8080/",
          "height": 340
        },
        "outputId": "e2eb8f8b-645c-48b3-c955-2cc4d762e222"
      },
      "source": [
        "print (\"index/labels\")\n",
        "print (df.index) # the index aka the lables\n",
        "\n",
        "print()\n",
        "\n",
        "print(\"Column Names\")\n",
        "print(df.columns)  #Column names (which is \"an index\")\n",
        "print ()\n",
        "\n",
        "\n",
        "print(\"Feature types\")\n",
        "print(df.dtypes) #data types of each column #had to change to df.dtypes from df.types other wise it wont work for pandas.\n",
        "print(df.shape) #number of rows and columns"
      ],
      "execution_count": 17,
      "outputs": [
        {
          "output_type": "stream",
          "text": [
            "index/labels\n",
            "RangeIndex(start=0, stop=1903, step=1)\n",
            "\n",
            "Column Names\n",
            "Index(['Org_nm', ' Org_PAC_ID', ' ST', ' measure_CD', ' measure_title',\n",
            "       ' prf_rate', ' patient_count', ' FN'],\n",
            "      dtype='object')\n",
            "\n",
            "Feature types\n",
            "Org_nm             object\n",
            " Org_PAC_ID         int64\n",
            " ST                object\n",
            " measure_CD        object\n",
            " measure_title     object\n",
            " prf_rate         float64\n",
            " patient_count    float64\n",
            " FN               float64\n",
            "dtype: object\n",
            "(1903, 8)\n"
          ],
          "name": "stdout"
        }
      ]
    },
    {
      "cell_type": "code",
      "metadata": {
        "id": "pUUPcoDYAdjp",
        "colab_type": "code",
        "colab": {
          "base_uri": "https://localhost:8080/",
          "height": 255
        },
        "outputId": "822162c3-b34a-4092-b832-544d6cfbaea1"
      },
      "source": [
        "df.info\n"
      ],
      "execution_count": 18,
      "outputs": [
        {
          "output_type": "execute_result",
          "data": {
            "text/plain": [
              "<bound method DataFrame.info of                     Org_nm   Org_PAC_ID  ST  ...  prf_rate  patient_count   FN\n",
              "0       MID COAST HOSPITAL   5496739468  ME  ...      77.0            NaN  NaN\n",
              "1       MID COAST HOSPITAL   5496739468  ME  ...      27.0            NaN  NaN\n",
              "2       MID COAST HOSPITAL   5496739468  ME  ...      54.0            NaN  NaN\n",
              "3       MID COAST HOSPITAL   5496739468  ME  ...      92.0            NaN  NaN\n",
              "4       MID COAST HOSPITAL   5496739468  ME  ...      91.0            NaN  NaN\n",
              "...                    ...          ...  ..  ...       ...            ...  ...\n",
              "1898  KAUAI MEDICAL CLINIC   5092628479  HI  ...      93.0            NaN  NaN\n",
              "1899  KAUAI MEDICAL CLINIC   5092628479  HI  ...      92.0            NaN  NaN\n",
              "1900  KAUAI MEDICAL CLINIC   5092628479  HI  ...      56.0            NaN  NaN\n",
              "1901  KAUAI MEDICAL CLINIC   5092628479  HI  ...      85.0            NaN  NaN\n",
              "1902  KAUAI MEDICAL CLINIC   5092628479  HI  ...      91.0            NaN  NaN\n",
              "\n",
              "[1903 rows x 8 columns]>"
            ]
          },
          "metadata": {
            "tags": []
          },
          "execution_count": 18
        }
      ]
    },
    {
      "cell_type": "code",
      "metadata": {
        "id": "vbJNW5QoFtgC",
        "colab_type": "code",
        "colab": {}
      },
      "source": [
        "# Lets now re-code our 'YEAR' column into something simpler \n",
        "# Lets ASSUME that we want to keep the first year, first part only "
      ],
      "execution_count": null,
      "outputs": []
    },
    {
      "cell_type": "code",
      "metadata": {
        "id": "9AQI2CODKwFh",
        "colab_type": "code",
        "colab": {
          "base_uri": "https://localhost:8080/",
          "height": 85
        },
        "outputId": "db247864-daab-408b-db17-fbdfee665836"
      },
      "source": [
        "df.axes # list the rows"
      ],
      "execution_count": 36,
      "outputs": [
        {
          "output_type": "execute_result",
          "data": {
            "text/plain": [
              "[RangeIndex(start=0, stop=1903, step=1),\n",
              " Index(['Org_nm', ' Org_PAC_ID', ' ST', ' measure_CD', ' measure_title',\n",
              "        ' prf_rate', ' patient_count', ' FN'],\n",
              "       dtype='object')]"
            ]
          },
          "metadata": {
            "tags": []
          },
          "execution_count": 36
        }
      ]
    },
    {
      "cell_type": "code",
      "metadata": {
        "id": "giBYJvpPLZCZ",
        "colab_type": "code",
        "colab": {
          "base_uri": "https://localhost:8080/",
          "height": 34
        },
        "outputId": "92e4889c-6717-4b3b-bb85-d228fc1db9fb"
      },
      "source": [
        "df.ndim # number of dimensions, df.ndim"
      ],
      "execution_count": 37,
      "outputs": [
        {
          "output_type": "execute_result",
          "data": {
            "text/plain": [
              "2"
            ]
          },
          "metadata": {
            "tags": []
          },
          "execution_count": 37
        }
      ]
    },
    {
      "cell_type": "code",
      "metadata": {
        "id": "SfZ5msTaLfCI",
        "colab_type": "code",
        "colab": {
          "base_uri": "https://localhost:8080/",
          "height": 34
        },
        "outputId": "c59b1510-3f82-4b1b-fa25-a1f14abd68a4"
      },
      "source": [
        "df.size # number of elements = df.ize"
      ],
      "execution_count": 38,
      "outputs": [
        {
          "output_type": "execute_result",
          "data": {
            "text/plain": [
              "15224"
            ]
          },
          "metadata": {
            "tags": []
          },
          "execution_count": 38
        }
      ]
    },
    {
      "cell_type": "code",
      "metadata": {
        "id": "4NS2br5xGUrA",
        "colab_type": "code",
        "colab": {}
      },
      "source": [
        "dir(df) #Unlike attributes, python methods have parethesis. all attributes and methods can be listed with a dir() function : dir(df)"
      ],
      "execution_count": null,
      "outputs": []
    },
    {
      "cell_type": "code",
      "metadata": {
        "id": "rrfHdbPoLq21",
        "colab_type": "code",
        "colab": {
          "base_uri": "https://localhost:8080/",
          "height": 153
        },
        "outputId": "6f928a7b-8b13-46ab-bd15-81cf39e25e7e"
      },
      "source": [
        "df.values #Numpy respresentation of the data"
      ],
      "execution_count": 39,
      "outputs": [
        {
          "output_type": "execute_result",
          "data": {
            "text/plain": [
              "array([['MID COAST HOSPITAL', 5496739468, 'ME', ..., 77.0, nan, nan],\n",
              "       ['MID COAST HOSPITAL', 5496739468, 'ME', ..., 27.0, nan, nan],\n",
              "       ['MID COAST HOSPITAL', 5496739468, 'ME', ..., 54.0, nan, nan],\n",
              "       ...,\n",
              "       ['KAUAI MEDICAL CLINIC', 5092628479, 'HI', ..., 56.0, nan, nan],\n",
              "       ['KAUAI MEDICAL CLINIC', 5092628479, 'HI', ..., 85.0, nan, nan],\n",
              "       ['KAUAI MEDICAL CLINIC', 5092628479, 'HI', ..., 91.0, nan, nan]],\n",
              "      dtype=object)"
            ]
          },
          "metadata": {
            "tags": []
          },
          "execution_count": 39
        }
      ]
    },
    {
      "cell_type": "code",
      "metadata": {
        "id": "EtiX8lLOL5Aa",
        "colab_type": "code",
        "colab": {
          "base_uri": "https://localhost:8080/",
          "height": 297
        },
        "outputId": "20c7b7fc-ff0d-46db-f34e-aa503ba19f98"
      },
      "source": [
        "  df.describe()"
      ],
      "execution_count": 50,
      "outputs": [
        {
          "output_type": "execute_result",
          "data": {
            "text/html": [
              "<div>\n",
              "<style scoped>\n",
              "    .dataframe tbody tr th:only-of-type {\n",
              "        vertical-align: middle;\n",
              "    }\n",
              "\n",
              "    .dataframe tbody tr th {\n",
              "        vertical-align: top;\n",
              "    }\n",
              "\n",
              "    .dataframe thead th {\n",
              "        text-align: right;\n",
              "    }\n",
              "</style>\n",
              "<table border=\"1\" class=\"dataframe\">\n",
              "  <thead>\n",
              "    <tr style=\"text-align: right;\">\n",
              "      <th></th>\n",
              "      <th>Org_PAC_ID</th>\n",
              "      <th>prf_rate</th>\n",
              "      <th>patient_count</th>\n",
              "      <th>FN</th>\n",
              "    </tr>\n",
              "  </thead>\n",
              "  <tbody>\n",
              "    <tr>\n",
              "      <th>count</th>\n",
              "      <td>1.903000e+03</td>\n",
              "      <td>1639.000000</td>\n",
              "      <td>0.0</td>\n",
              "      <td>264.0</td>\n",
              "    </tr>\n",
              "    <tr>\n",
              "      <th>mean</th>\n",
              "      <td>5.288764e+09</td>\n",
              "      <td>74.808420</td>\n",
              "      <td>NaN</td>\n",
              "      <td>1.0</td>\n",
              "    </tr>\n",
              "    <tr>\n",
              "      <th>std</th>\n",
              "      <td>2.857280e+09</td>\n",
              "      <td>21.814372</td>\n",
              "      <td>NaN</td>\n",
              "      <td>0.0</td>\n",
              "    </tr>\n",
              "    <tr>\n",
              "      <th>min</th>\n",
              "      <td>4.210568e+07</td>\n",
              "      <td>15.000000</td>\n",
              "      <td>NaN</td>\n",
              "      <td>1.0</td>\n",
              "    </tr>\n",
              "    <tr>\n",
              "      <th>25%</th>\n",
              "      <td>2.860396e+09</td>\n",
              "      <td>61.000000</td>\n",
              "      <td>NaN</td>\n",
              "      <td>1.0</td>\n",
              "    </tr>\n",
              "    <tr>\n",
              "      <th>50%</th>\n",
              "      <td>5.395649e+09</td>\n",
              "      <td>85.000000</td>\n",
              "      <td>NaN</td>\n",
              "      <td>1.0</td>\n",
              "    </tr>\n",
              "    <tr>\n",
              "      <th>75%</th>\n",
              "      <td>7.618880e+09</td>\n",
              "      <td>92.000000</td>\n",
              "      <td>NaN</td>\n",
              "      <td>1.0</td>\n",
              "    </tr>\n",
              "    <tr>\n",
              "      <th>max</th>\n",
              "      <td>9.931141e+09</td>\n",
              "      <td>98.000000</td>\n",
              "      <td>NaN</td>\n",
              "      <td>1.0</td>\n",
              "    </tr>\n",
              "  </tbody>\n",
              "</table>\n",
              "</div>"
            ],
            "text/plain": [
              "         Org_PAC_ID     prf_rate   patient_count     FN\n",
              "count  1.903000e+03  1639.000000             0.0  264.0\n",
              "mean   5.288764e+09    74.808420             NaN    1.0\n",
              "std    2.857280e+09    21.814372             NaN    0.0\n",
              "min    4.210568e+07    15.000000             NaN    1.0\n",
              "25%    2.860396e+09    61.000000             NaN    1.0\n",
              "50%    5.395649e+09    85.000000             NaN    1.0\n",
              "75%    7.618880e+09    92.000000             NaN    1.0\n",
              "max    9.931141e+09    98.000000             NaN    1.0"
            ]
          },
          "metadata": {
            "tags": []
          },
          "execution_count": 50
        }
      ]
    },
    {
      "cell_type": "code",
      "metadata": {
        "id": "tMFNbFX_Me7C",
        "colab_type": "code",
        "colab": {
          "base_uri": "https://localhost:8080/",
          "height": 170
        },
        "outputId": "bf5241ce-5785-49f5-ceb4-0e432ea853de"
      },
      "source": [
        "df.max()"
      ],
      "execution_count": 51,
      "outputs": [
        {
          "output_type": "execute_result",
          "data": {
            "text/plain": [
              "Org_nm                                 YUMA REGIONAL MEDICAL CENTER\n",
              " Org_PAC_ID                                              9931141124\n",
              " ST                                                              WY\n",
              " measure_CD                                             CAHPS_GRP_9\n",
              " measure_title    CAHPS for MIPS SSM: Stewardship of Patient Res...\n",
              " prf_rate                                                        98\n",
              " patient_count                                                 None\n",
              " FN                                                               1\n",
              "dtype: object"
            ]
          },
          "metadata": {
            "tags": []
          },
          "execution_count": 51
        }
      ]
    },
    {
      "cell_type": "code",
      "metadata": {
        "id": "QNwWMswyMxE6",
        "colab_type": "code",
        "colab": {
          "base_uri": "https://localhost:8080/",
          "height": 170
        },
        "outputId": "a50bac14-7ea3-4793-ad4c-f56db5edbeef"
      },
      "source": [
        "df.min()"
      ],
      "execution_count": 52,
      "outputs": [
        {
          "output_type": "execute_result",
          "data": {
            "text/plain": [
              "Org_nm                                ACCLAIM PHYSICIAN GROUP INC\n",
              " Org_PAC_ID                                              42105678\n",
              " ST                                                            AR\n",
              " measure_CD                                           CAHPS_GRP_1\n",
              " measure_title    CAHPS for MIPS SSM: Between Visit Communication\n",
              " prf_rate                                                      15\n",
              " patient_count                                               None\n",
              " FN                                                             1\n",
              "dtype: object"
            ]
          },
          "metadata": {
            "tags": []
          },
          "execution_count": 52
        }
      ]
    },
    {
      "cell_type": "code",
      "metadata": {
        "id": "yeQfjXlmM2J9",
        "colab_type": "code",
        "colab": {
          "base_uri": "https://localhost:8080/",
          "height": 102
        },
        "outputId": "5d214f99-80fb-4ab6-a408-7355131ce9bd"
      },
      "source": [
        "df.mean()"
      ],
      "execution_count": 53,
      "outputs": [
        {
          "output_type": "execute_result",
          "data": {
            "text/plain": [
              " Org_PAC_ID       5.288764e+09\n",
              " prf_rate         7.480842e+01\n",
              " patient_count             NaN\n",
              " FN               1.000000e+00\n",
              "dtype: float64"
            ]
          },
          "metadata": {
            "tags": []
          },
          "execution_count": 53
        }
      ]
    },
    {
      "cell_type": "code",
      "metadata": {
        "id": "fEBf4qruM7QL",
        "colab_type": "code",
        "colab": {
          "base_uri": "https://localhost:8080/",
          "height": 102
        },
        "outputId": "42ab6838-c267-4a92-c06e-00e2960c4894"
      },
      "source": [
        "df.std()"
      ],
      "execution_count": 54,
      "outputs": [
        {
          "output_type": "execute_result",
          "data": {
            "text/plain": [
              " Org_PAC_ID       2.857280e+09\n",
              " prf_rate         2.181437e+01\n",
              " patient_count             NaN\n",
              " FN               0.000000e+00\n",
              "dtype: float64"
            ]
          },
          "metadata": {
            "tags": []
          },
          "execution_count": 54
        }
      ]
    },
    {
      "cell_type": "code",
      "metadata": {
        "id": "zC0VaVdgM_Zr",
        "colab_type": "code",
        "colab": {
          "base_uri": "https://localhost:8080/",
          "height": 204
        },
        "outputId": "8533be02-2f75-4dd5-c7da-9fb2aa7cf4ae"
      },
      "source": [
        "df.sample(5) # unsure, why df.sample([]) has brackets with an N it works as df.sample() and number within brackets for random sample."
      ],
      "execution_count": 60,
      "outputs": [
        {
          "output_type": "execute_result",
          "data": {
            "text/html": [
              "<div>\n",
              "<style scoped>\n",
              "    .dataframe tbody tr th:only-of-type {\n",
              "        vertical-align: middle;\n",
              "    }\n",
              "\n",
              "    .dataframe tbody tr th {\n",
              "        vertical-align: top;\n",
              "    }\n",
              "\n",
              "    .dataframe thead th {\n",
              "        text-align: right;\n",
              "    }\n",
              "</style>\n",
              "<table border=\"1\" class=\"dataframe\">\n",
              "  <thead>\n",
              "    <tr style=\"text-align: right;\">\n",
              "      <th></th>\n",
              "      <th>Org_nm</th>\n",
              "      <th>Org_PAC_ID</th>\n",
              "      <th>ST</th>\n",
              "      <th>measure_CD</th>\n",
              "      <th>measure_title</th>\n",
              "      <th>prf_rate</th>\n",
              "      <th>patient_count</th>\n",
              "      <th>FN</th>\n",
              "    </tr>\n",
              "  </thead>\n",
              "  <tbody>\n",
              "    <tr>\n",
              "      <th>1439</th>\n",
              "      <td>WEST FLORIDA MEDICAL CENTER CLINIC PA</td>\n",
              "      <td>7416860705</td>\n",
              "      <td>FL</td>\n",
              "      <td>CAHPS_GRP_9</td>\n",
              "      <td>CAHPS for MIPS SSM: Courteous and Helpful Offi...</td>\n",
              "      <td>93.0</td>\n",
              "      <td>NaN</td>\n",
              "      <td>NaN</td>\n",
              "    </tr>\n",
              "    <tr>\n",
              "      <th>34</th>\n",
              "      <td>ATHENS MEDICAL ASSOCIATES, LLC</td>\n",
              "      <td>9537112685</td>\n",
              "      <td>OH</td>\n",
              "      <td>CAHPS_GRP_12</td>\n",
              "      <td>CAHPS for MIPS SSM: Between Visit Communication</td>\n",
              "      <td>53.0</td>\n",
              "      <td>NaN</td>\n",
              "      <td>NaN</td>\n",
              "    </tr>\n",
              "    <tr>\n",
              "      <th>530</th>\n",
              "      <td>RMH MEDICAL GROUP LLC</td>\n",
              "      <td>7618270729</td>\n",
              "      <td>VA</td>\n",
              "      <td>CAHPS_GRP_12</td>\n",
              "      <td>CAHPS for MIPS SSM: Between Visit Communication</td>\n",
              "      <td>62.0</td>\n",
              "      <td>NaN</td>\n",
              "      <td>NaN</td>\n",
              "    </tr>\n",
              "    <tr>\n",
              "      <th>1092</th>\n",
              "      <td>RAPID CITY MEDICAL CENTER LLP</td>\n",
              "      <td>5890691075</td>\n",
              "      <td>SD</td>\n",
              "      <td>CAHPS_GRP_3</td>\n",
              "      <td>CAHPS for MIPS SSM: Patient's Rating of Provider</td>\n",
              "      <td>92.0</td>\n",
              "      <td>NaN</td>\n",
              "      <td>NaN</td>\n",
              "    </tr>\n",
              "    <tr>\n",
              "      <th>1011</th>\n",
              "      <td>SOUTHEAST MISSOURI HOSPITAL PHYSICIANS LLC</td>\n",
              "      <td>9133024334</td>\n",
              "      <td>MO</td>\n",
              "      <td>CAHPS_GRP_2</td>\n",
              "      <td>CAHPS for MIPS SSM: How Well Providers Communi...</td>\n",
              "      <td>91.0</td>\n",
              "      <td>NaN</td>\n",
              "      <td>NaN</td>\n",
              "    </tr>\n",
              "  </tbody>\n",
              "</table>\n",
              "</div>"
            ],
            "text/plain": [
              "                                          Org_nm  ...   FN\n",
              "1439       WEST FLORIDA MEDICAL CENTER CLINIC PA  ...  NaN\n",
              "34                ATHENS MEDICAL ASSOCIATES, LLC  ...  NaN\n",
              "530                        RMH MEDICAL GROUP LLC  ...  NaN\n",
              "1092               RAPID CITY MEDICAL CENTER LLP  ...  NaN\n",
              "1011  SOUTHEAST MISSOURI HOSPITAL PHYSICIANS LLC  ...  NaN\n",
              "\n",
              "[5 rows x 8 columns]"
            ]
          },
          "metadata": {
            "tags": []
          },
          "execution_count": 60
        }
      ]
    },
    {
      "cell_type": "code",
      "metadata": {
        "id": "gk8UeQMjNYov",
        "colab_type": "code",
        "colab": {
          "base_uri": "https://localhost:8080/",
          "height": 49
        },
        "outputId": "a9d86df9-4fba-483a-d9c8-e1a96e7e0a2b"
      },
      "source": [
        "df.dropna() #drop all the records with missing values."
      ],
      "execution_count": 62,
      "outputs": [
        {
          "output_type": "execute_result",
          "data": {
            "text/html": [
              "<div>\n",
              "<style scoped>\n",
              "    .dataframe tbody tr th:only-of-type {\n",
              "        vertical-align: middle;\n",
              "    }\n",
              "\n",
              "    .dataframe tbody tr th {\n",
              "        vertical-align: top;\n",
              "    }\n",
              "\n",
              "    .dataframe thead th {\n",
              "        text-align: right;\n",
              "    }\n",
              "</style>\n",
              "<table border=\"1\" class=\"dataframe\">\n",
              "  <thead>\n",
              "    <tr style=\"text-align: right;\">\n",
              "      <th></th>\n",
              "      <th>Org_nm</th>\n",
              "      <th>Org_PAC_ID</th>\n",
              "      <th>ST</th>\n",
              "      <th>measure_CD</th>\n",
              "      <th>measure_title</th>\n",
              "      <th>prf_rate</th>\n",
              "      <th>patient_count</th>\n",
              "      <th>FN</th>\n",
              "    </tr>\n",
              "  </thead>\n",
              "  <tbody>\n",
              "  </tbody>\n",
              "</table>\n",
              "</div>"
            ],
            "text/plain": [
              "Empty DataFrame\n",
              "Columns: [Org_nm,  Org_PAC_ID,  ST,  measure_CD,  measure_title,  prf_rate,  patient_count,  FN]\n",
              "Index: []"
            ]
          },
          "metadata": {
            "tags": []
          },
          "execution_count": 62
        }
      ]
    },
    {
      "cell_type": "code",
      "metadata": {
        "id": "J5eaII1PN2-W",
        "colab_type": "code",
        "colab": {
          "base_uri": "https://localhost:8080/",
          "height": 255
        },
        "outputId": "653e34f5-e017-46df-d303-3675d15b3251"
      },
      "source": [
        "df.corr"
      ],
      "execution_count": 72,
      "outputs": [
        {
          "output_type": "execute_result",
          "data": {
            "text/plain": [
              "<bound method DataFrame.corr of                     Org_nm   Org_PAC_ID  ST  ...  prf_rate  patient_count   FN\n",
              "0       MID COAST HOSPITAL   5496739468  ME  ...      77.0            NaN  NaN\n",
              "1       MID COAST HOSPITAL   5496739468  ME  ...      27.0            NaN  NaN\n",
              "2       MID COAST HOSPITAL   5496739468  ME  ...      54.0            NaN  NaN\n",
              "3       MID COAST HOSPITAL   5496739468  ME  ...      92.0            NaN  NaN\n",
              "4       MID COAST HOSPITAL   5496739468  ME  ...      91.0            NaN  NaN\n",
              "...                    ...          ...  ..  ...       ...            ...  ...\n",
              "1898  KAUAI MEDICAL CLINIC   5092628479  HI  ...      93.0            NaN  NaN\n",
              "1899  KAUAI MEDICAL CLINIC   5092628479  HI  ...      92.0            NaN  NaN\n",
              "1900  KAUAI MEDICAL CLINIC   5092628479  HI  ...      56.0            NaN  NaN\n",
              "1901  KAUAI MEDICAL CLINIC   5092628479  HI  ...      85.0            NaN  NaN\n",
              "1902  KAUAI MEDICAL CLINIC   5092628479  HI  ...      91.0            NaN  NaN\n",
              "\n",
              "[1903 rows x 8 columns]>"
            ]
          },
          "metadata": {
            "tags": []
          },
          "execution_count": 72
        }
      ]
    },
    {
      "cell_type": "code",
      "metadata": {
        "id": "ChslBYGXVpv4",
        "colab_type": "code",
        "colab": {
          "base_uri": "https://localhost:8080/",
          "height": 255
        },
        "outputId": "3ed5f948-48e5-4dd7-ba82-1d343765bef1"
      },
      "source": [
        "df.info"
      ],
      "execution_count": 73,
      "outputs": [
        {
          "output_type": "execute_result",
          "data": {
            "text/plain": [
              "<bound method DataFrame.info of                     Org_nm   Org_PAC_ID  ST  ...  prf_rate  patient_count   FN\n",
              "0       MID COAST HOSPITAL   5496739468  ME  ...      77.0            NaN  NaN\n",
              "1       MID COAST HOSPITAL   5496739468  ME  ...      27.0            NaN  NaN\n",
              "2       MID COAST HOSPITAL   5496739468  ME  ...      54.0            NaN  NaN\n",
              "3       MID COAST HOSPITAL   5496739468  ME  ...      92.0            NaN  NaN\n",
              "4       MID COAST HOSPITAL   5496739468  ME  ...      91.0            NaN  NaN\n",
              "...                    ...          ...  ..  ...       ...            ...  ...\n",
              "1898  KAUAI MEDICAL CLINIC   5092628479  HI  ...      93.0            NaN  NaN\n",
              "1899  KAUAI MEDICAL CLINIC   5092628479  HI  ...      92.0            NaN  NaN\n",
              "1900  KAUAI MEDICAL CLINIC   5092628479  HI  ...      56.0            NaN  NaN\n",
              "1901  KAUAI MEDICAL CLINIC   5092628479  HI  ...      85.0            NaN  NaN\n",
              "1902  KAUAI MEDICAL CLINIC   5092628479  HI  ...      91.0            NaN  NaN\n",
              "\n",
              "[1903 rows x 8 columns]>"
            ]
          },
          "metadata": {
            "tags": []
          },
          "execution_count": 73
        }
      ]
    },
    {
      "cell_type": "code",
      "metadata": {
        "id": "vaEvjj7gVzA5",
        "colab_type": "code",
        "colab": {
          "base_uri": "https://localhost:8080/",
          "height": 419
        },
        "outputId": "6a5aa000-ead1-4daf-c9bd-8682206269a1"
      },
      "source": [
        "df.apply(pd.Series.value_counts) #unique value counts for all columns"
      ],
      "execution_count": 80,
      "outputs": [
        {
          "output_type": "execute_result",
          "data": {
            "text/html": [
              "<div>\n",
              "<style scoped>\n",
              "    .dataframe tbody tr th:only-of-type {\n",
              "        vertical-align: middle;\n",
              "    }\n",
              "\n",
              "    .dataframe tbody tr th {\n",
              "        vertical-align: top;\n",
              "    }\n",
              "\n",
              "    .dataframe thead th {\n",
              "        text-align: right;\n",
              "    }\n",
              "</style>\n",
              "<table border=\"1\" class=\"dataframe\">\n",
              "  <thead>\n",
              "    <tr style=\"text-align: right;\">\n",
              "      <th></th>\n",
              "      <th>Org_nm</th>\n",
              "      <th>Org_PAC_ID</th>\n",
              "      <th>ST</th>\n",
              "      <th>measure_CD</th>\n",
              "      <th>measure_title</th>\n",
              "      <th>prf_rate</th>\n",
              "      <th>patient_count</th>\n",
              "      <th>FN</th>\n",
              "    </tr>\n",
              "  </thead>\n",
              "  <tbody>\n",
              "    <tr>\n",
              "      <th>1.0</th>\n",
              "      <td>NaN</td>\n",
              "      <td>NaN</td>\n",
              "      <td>NaN</td>\n",
              "      <td>NaN</td>\n",
              "      <td>NaN</td>\n",
              "      <td>NaN</td>\n",
              "      <td>NaN</td>\n",
              "      <td>264.0</td>\n",
              "    </tr>\n",
              "    <tr>\n",
              "      <th>15.0</th>\n",
              "      <td>NaN</td>\n",
              "      <td>NaN</td>\n",
              "      <td>NaN</td>\n",
              "      <td>NaN</td>\n",
              "      <td>NaN</td>\n",
              "      <td>1.0</td>\n",
              "      <td>NaN</td>\n",
              "      <td>NaN</td>\n",
              "    </tr>\n",
              "    <tr>\n",
              "      <th>16.0</th>\n",
              "      <td>NaN</td>\n",
              "      <td>NaN</td>\n",
              "      <td>NaN</td>\n",
              "      <td>NaN</td>\n",
              "      <td>NaN</td>\n",
              "      <td>1.0</td>\n",
              "      <td>NaN</td>\n",
              "      <td>NaN</td>\n",
              "    </tr>\n",
              "    <tr>\n",
              "      <th>17.0</th>\n",
              "      <td>NaN</td>\n",
              "      <td>NaN</td>\n",
              "      <td>NaN</td>\n",
              "      <td>NaN</td>\n",
              "      <td>NaN</td>\n",
              "      <td>2.0</td>\n",
              "      <td>NaN</td>\n",
              "      <td>NaN</td>\n",
              "    </tr>\n",
              "    <tr>\n",
              "      <th>18.0</th>\n",
              "      <td>NaN</td>\n",
              "      <td>NaN</td>\n",
              "      <td>NaN</td>\n",
              "      <td>NaN</td>\n",
              "      <td>NaN</td>\n",
              "      <td>1.0</td>\n",
              "      <td>NaN</td>\n",
              "      <td>NaN</td>\n",
              "    </tr>\n",
              "    <tr>\n",
              "      <th>...</th>\n",
              "      <td>...</td>\n",
              "      <td>...</td>\n",
              "      <td>...</td>\n",
              "      <td>...</td>\n",
              "      <td>...</td>\n",
              "      <td>...</td>\n",
              "      <td>...</td>\n",
              "      <td>...</td>\n",
              "    </tr>\n",
              "    <tr>\n",
              "      <th>WI</th>\n",
              "      <td>NaN</td>\n",
              "      <td>NaN</td>\n",
              "      <td>112.0</td>\n",
              "      <td>NaN</td>\n",
              "      <td>NaN</td>\n",
              "      <td>NaN</td>\n",
              "      <td>NaN</td>\n",
              "      <td>NaN</td>\n",
              "    </tr>\n",
              "    <tr>\n",
              "      <th>WV</th>\n",
              "      <td>NaN</td>\n",
              "      <td>NaN</td>\n",
              "      <td>8.0</td>\n",
              "      <td>NaN</td>\n",
              "      <td>NaN</td>\n",
              "      <td>NaN</td>\n",
              "      <td>NaN</td>\n",
              "      <td>NaN</td>\n",
              "    </tr>\n",
              "    <tr>\n",
              "      <th>WY</th>\n",
              "      <td>NaN</td>\n",
              "      <td>NaN</td>\n",
              "      <td>8.0</td>\n",
              "      <td>NaN</td>\n",
              "      <td>NaN</td>\n",
              "      <td>NaN</td>\n",
              "      <td>NaN</td>\n",
              "      <td>NaN</td>\n",
              "    </tr>\n",
              "    <tr>\n",
              "      <th>WYOMING HEALTH MEDICAL GROUP LLC</th>\n",
              "      <td>8.0</td>\n",
              "      <td>NaN</td>\n",
              "      <td>NaN</td>\n",
              "      <td>NaN</td>\n",
              "      <td>NaN</td>\n",
              "      <td>NaN</td>\n",
              "      <td>NaN</td>\n",
              "      <td>NaN</td>\n",
              "    </tr>\n",
              "    <tr>\n",
              "      <th>YUMA REGIONAL MEDICAL CENTER</th>\n",
              "      <td>8.0</td>\n",
              "      <td>NaN</td>\n",
              "      <td>NaN</td>\n",
              "      <td>NaN</td>\n",
              "      <td>NaN</td>\n",
              "      <td>NaN</td>\n",
              "      <td>NaN</td>\n",
              "      <td>NaN</td>\n",
              "    </tr>\n",
              "  </tbody>\n",
              "</table>\n",
              "<p>620 rows × 8 columns</p>\n",
              "</div>"
            ],
            "text/plain": [
              "                                  Org_nm   Org_PAC_ID  ...   patient_count     FN\n",
              "1.0                                  NaN          NaN  ...             NaN  264.0\n",
              "15.0                                 NaN          NaN  ...             NaN    NaN\n",
              "16.0                                 NaN          NaN  ...             NaN    NaN\n",
              "17.0                                 NaN          NaN  ...             NaN    NaN\n",
              "18.0                                 NaN          NaN  ...             NaN    NaN\n",
              "...                                  ...          ...  ...             ...    ...\n",
              "WI                                   NaN          NaN  ...             NaN    NaN\n",
              "WV                                   NaN          NaN  ...             NaN    NaN\n",
              "WY                                   NaN          NaN  ...             NaN    NaN\n",
              "WYOMING HEALTH MEDICAL GROUP LLC     8.0          NaN  ...             NaN    NaN\n",
              "YUMA REGIONAL MEDICAL CENTER         8.0          NaN  ...             NaN    NaN\n",
              "\n",
              "[620 rows x 8 columns]"
            ]
          },
          "metadata": {
            "tags": []
          },
          "execution_count": 80
        }
      ]
    },
    {
      "cell_type": "code",
      "metadata": {
        "id": "BXI3WX01XPhJ",
        "colab_type": "code",
        "colab": {
          "base_uri": "https://localhost:8080/",
          "height": 34
        },
        "outputId": "973b3c89-a25a-4db0-94d6-679223c5ac52"
      },
      "source": [
        "pd.read_csv"
      ],
      "execution_count": 81,
      "outputs": [
        {
          "output_type": "execute_result",
          "data": {
            "text/plain": [
              "<function pandas.io.parsers._make_parser_function.<locals>.parser_f>"
            ]
          },
          "metadata": {
            "tags": []
          },
          "execution_count": 81
        }
      ]
    },
    {
      "cell_type": "code",
      "metadata": {
        "id": "ED8zTmUGY0JR",
        "colab_type": "code",
        "colab": {
          "base_uri": "https://localhost:8080/",
          "height": 294
        },
        "outputId": "d2549ea8-467e-46d8-8b46-125460c45528"
      },
      "source": [
        "df.plot.box()"
      ],
      "execution_count": 98,
      "outputs": [
        {
          "output_type": "execute_result",
          "data": {
            "text/plain": [
              "<matplotlib.axes._subplots.AxesSubplot at 0x7f7d0bb74d68>"
            ]
          },
          "metadata": {
            "tags": []
          },
          "execution_count": 98
        },
        {
          "output_type": "display_data",
          "data": {
            "image/png": "[encoded data removed]",
            "text/plain": [
              "<Figure size 432x288 with 1 Axes>"
            ]
          },
          "metadata": {
            "tags": [],
            "needs_background": "light"
          }
        }
      ]
    },
    {
      "cell_type": "code",
      "metadata": {
        "id": "q2DXL7FoZbQa",
        "colab_type": "code",
        "colab": {}
      },
      "source": [
        ""
      ],
      "execution_count": 94,
      "outputs": []
    }
  ]
}